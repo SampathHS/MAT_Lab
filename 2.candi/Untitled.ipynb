{
 "cells": [
  {
   "cell_type": "code",
   "execution_count": 13,
   "id": "3130890e",
   "metadata": {},
   "outputs": [],
   "source": [
    "import pandas as pd\n",
    "import numpy as np"
   ]
  },
  {
   "cell_type": "code",
   "execution_count": 14,
   "id": "e9e01f76",
   "metadata": {},
   "outputs": [
    {
     "name": "stdout",
     "output_type": "stream",
     "text": [
      "     Sky Air temp Humidity    Wind water Forecast target\n",
      "0  Sunny     warm   normal  strong  warm     same    yes\n",
      "1  Sunny     warm     high  strong  warm     same    yes\n",
      "2  Rainy     cold     high  strong  warm   change     no\n",
      "3  Sunny     warm     high  strong  cold   change    yes\n"
     ]
    }
   ],
   "source": [
    "filename=pd.read_csv(\"weather.csv\")\n",
    "print(filename)"
   ]
  },
  {
   "cell_type": "code",
   "execution_count": 15,
   "id": "653ab2dc",
   "metadata": {},
   "outputs": [
    {
     "name": "stdout",
     "output_type": "stream",
     "text": [
      "[['Sunny' 'warm' 'normal' 'strong' 'warm' 'same']\n",
      " ['Sunny' 'warm' 'high' 'strong' 'warm' 'same']\n",
      " ['Rainy' 'cold' 'high' 'strong' 'warm' 'change']\n",
      " ['Sunny' 'warm' 'high' 'strong' 'cold' 'change']]\n"
     ]
    }
   ],
   "source": [
    "concepts=np.array(filename.iloc[:,0:-1])\n",
    "print(concepts)"
   ]
  },
  {
   "cell_type": "code",
   "execution_count": 16,
   "id": "8d5bd9e4",
   "metadata": {},
   "outputs": [
    {
     "name": "stdout",
     "output_type": "stream",
     "text": [
      "['yes' 'yes' 'no' 'yes']\n"
     ]
    }
   ],
   "source": [
    "target=np.array(filename.iloc[:,-1])\n",
    "print(target)"
   ]
  },
  {
   "cell_type": "code",
   "execution_count": 17,
   "id": "17ba8437",
   "metadata": {},
   "outputs": [
    {
     "name": "stdout",
     "output_type": "stream",
     "text": [
      "initilization\n",
      "['Sunny' 'warm' 'normal' 'strong' 'warm' 'same']\n",
      "[['?', '?', '?', '?', '?', '?'], ['?', '?', '?', '?', '?', '?'], ['?', '?', '?', '?', '?', '?'], ['?', '?', '?', '?', '?', '?'], ['?', '?', '?', '?', '?', '?'], ['?', '?', '?', '?', '?', '?']]\n",
      "hypothesis : 1\n",
      "[['?', '?', '?', '?', '?', '?'], ['?', '?', '?', '?', '?', '?'], ['?', '?', '?', '?', '?', '?'], ['?', '?', '?', '?', '?', '?'], ['?', '?', '?', '?', '?', '?'], ['?', '?', '?', '?', '?', '?']]\n",
      "['Sunny' 'warm' 'normal' 'strong' 'warm' 'same']\n",
      "hypothesis : 2\n",
      "[['?', '?', '?', '?', '?', '?'], ['?', '?', '?', '?', '?', '?'], ['?', '?', '?', '?', '?', '?'], ['?', '?', '?', '?', '?', '?'], ['?', '?', '?', '?', '?', '?'], ['?', '?', '?', '?', '?', '?']]\n",
      "['Sunny' 'warm' '?' 'strong' 'warm' 'same']\n",
      "hypothesis : 3\n",
      "[['Sunny', '?', '?', '?', '?', '?'], ['?', 'warm', '?', '?', '?', '?'], ['?', '?', '?', '?', '?', '?'], ['?', '?', '?', '?', '?', '?'], ['?', '?', '?', '?', '?', '?'], ['?', '?', '?', '?', '?', 'same']]\n",
      "['Sunny' 'warm' '?' 'strong' 'warm' 'same']\n",
      "hypothesis : 4\n",
      "[['Sunny', '?', '?', '?', '?', '?'], ['?', 'warm', '?', '?', '?', '?'], ['?', '?', '?', '?', '?', '?'], ['?', '?', '?', '?', '?', '?'], ['?', '?', '?', '?', '?', '?'], ['?', '?', '?', '?', '?', '?']]\n",
      "['Sunny' 'warm' '?' 'strong' '?' '?']\n",
      "final specific: ['Sunny' 'warm' '?' 'strong' '?' '?']\n",
      "final general: [['Sunny', '?', '?', '?', '?', '?'], ['?', 'warm', '?', '?', '?', '?']]\n"
     ]
    }
   ],
   "source": [
    "def learn(concepts,target):\n",
    "    print(\"initilization\")\n",
    "    spe_h=concepts[0].copy()\n",
    "    print(spe_h)\n",
    "    gen_h=[['?' for i in range(len(spe_h))]for i in range(len(spe_h))]\n",
    "    print(gen_h)\n",
    "    \n",
    "    for i,h in enumerate(concepts):\n",
    "        if(target[i]=='yes'):\n",
    "            for x in range(len(spe_h)):\n",
    "                if(h[x]!=spe_h[x]):\n",
    "                    spe_h[x]='?'\n",
    "                    gen_h[x][x]='?'\n",
    "                    \n",
    "        if(target[i]=='no'):\n",
    "            for x in range(len(spe_h)):\n",
    "                if(h[x]!=spe_h[x]):\n",
    "                    gen_h[x][x]=spe_h[x]\n",
    "                else:\n",
    "                    gen_h[x][x]='?'\n",
    "        print(\"hypothesis :\",i+1)\n",
    "        print(gen_h)\n",
    "        print(spe_h)\n",
    "        \n",
    "        indices=[i for i, val in enumerate(gen_h) if val==['?','?','?','?','?','?',]]\n",
    "        \n",
    "    for i in indices:\n",
    "        gen_h.remove(['?','?','?','?','?','?',])\n",
    "    return spe_h,gen_h\n",
    "\n",
    "final_spe,final_gen=learn(concepts,target)\n",
    "print(\"final specific:\",final_spe)\n",
    "print(\"final general:\",final_gen)"
   ]
  },
  {
   "cell_type": "code",
   "execution_count": null,
   "id": "078afe78",
   "metadata": {},
   "outputs": [],
   "source": []
  }
 ],
 "metadata": {
  "kernelspec": {
   "display_name": "Python 3",
   "language": "python",
   "name": "python3"
  },
  "language_info": {
   "codemirror_mode": {
    "name": "ipython",
    "version": 3
   },
   "file_extension": ".py",
   "mimetype": "text/x-python",
   "name": "python",
   "nbconvert_exporter": "python",
   "pygments_lexer": "ipython3",
   "version": "3.8.8"
  }
 },
 "nbformat": 4,
 "nbformat_minor": 5
}
