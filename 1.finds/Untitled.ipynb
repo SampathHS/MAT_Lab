{
 "cells": [
  {
   "cell_type": "code",
   "execution_count": 1,
   "id": "104da2c6",
   "metadata": {},
   "outputs": [],
   "source": [
    "import pandas as pd"
   ]
  },
  {
   "cell_type": "code",
   "execution_count": 3,
   "id": "13ff74ba",
   "metadata": {},
   "outputs": [
    {
     "name": "stdout",
     "output_type": "stream",
     "text": [
      "['sky', 'air', 'humi', 'wind', 'water', 'forecast']\n"
     ]
    }
   ],
   "source": [
    "attributes=['sky','air','humi','wind','water','forecast']\n",
    "print(attributes)"
   ]
  },
  {
   "cell_type": "code",
   "execution_count": 4,
   "id": "8b15854e",
   "metadata": {},
   "outputs": [
    {
     "name": "stdout",
     "output_type": "stream",
     "text": [
      "6\n"
     ]
    }
   ],
   "source": [
    "num_attributes=len(attributes)\n",
    "print(num_attributes)"
   ]
  },
  {
   "cell_type": "code",
   "execution_count": 5,
   "id": "8f53b3dc",
   "metadata": {},
   "outputs": [
    {
     "name": "stdout",
     "output_type": "stream",
     "text": [
      "     Sky Air temp Humidity    Wind water Forecast target\n",
      "0  Sunny     cold   normal  strong  warm     same    yes\n",
      "1  Sunny     warm     high  strong  warm     same    yes\n",
      "2  Rainy     cold     high  strong  warm   change     no\n",
      "3  Sunny     warm     high  strong  cold   change    yes\n"
     ]
    }
   ],
   "source": [
    "filename=pd.read_csv(\"weather.csv\")\n",
    "print(filename)"
   ]
  },
  {
   "cell_type": "code",
   "execution_count": 6,
   "id": "4b4aea72",
   "metadata": {},
   "outputs": [
    {
     "name": "stdout",
     "output_type": "stream",
     "text": [
      "['yes', 'yes', 'no', 'yes']\n"
     ]
    }
   ],
   "source": [
    "target=['yes','yes','no','yes']\n",
    "print(target)"
   ]
  },
  {
   "cell_type": "code",
   "execution_count": 10,
   "id": "d038b2cb",
   "metadata": {},
   "outputs": [
    {
     "name": "stdout",
     "output_type": "stream",
     "text": [
      "['0', '0', '0', '0', '0', '0']\n",
      "1 hypothesis is:  ['Sunny', 'cold', 'normal', 'strong', 'warm', 'same']\n",
      "2 hypothesis is:  ['Sunny', '?', '?', 'strong', 'warm', 'same']\n",
      "4 hypothesis is:  ['Sunny', '?', '?', 'strong', '?', '?']\n",
      "final hypothesis is: ['Sunny', '?', '?', 'strong', '?', '?']\n"
     ]
    }
   ],
   "source": [
    "hypothesis=['0']*num_attributes\n",
    "print(hypothesis)\n",
    "\n",
    "for i in range(len(target)):\n",
    "    if(target[i]=='yes'):\n",
    "        for j in range(num_attributes):\n",
    "            if(hypothesis[j]=='0'):\n",
    "                hypothesis[j]=filename.iloc[i,j]\n",
    "            if(hypothesis[j]!=filename.iloc[i,j]):\n",
    "                hypothesis[j]='?'\n",
    "        print(i+1,\"hypothesis is: \",hypothesis)\n",
    "print(\"final hypothesis is:\",hypothesis)"
   ]
  },
  {
   "cell_type": "code",
   "execution_count": null,
   "id": "9c7d1daf",
   "metadata": {},
   "outputs": [],
   "source": []
  }
 ],
 "metadata": {
  "kernelspec": {
   "display_name": "Python 3",
   "language": "python",
   "name": "python3"
  },
  "language_info": {
   "codemirror_mode": {
    "name": "ipython",
    "version": 3
   },
   "file_extension": ".py",
   "mimetype": "text/x-python",
   "name": "python",
   "nbconvert_exporter": "python",
   "pygments_lexer": "ipython3",
   "version": "3.8.8"
  }
 },
 "nbformat": 4,
 "nbformat_minor": 5
}
